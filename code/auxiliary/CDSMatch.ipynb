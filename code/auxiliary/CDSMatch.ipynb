{
 "cells": [
  {
   "cell_type": "code",
   "execution_count": 1,
   "metadata": {
    "ExecuteTime": {
     "end_time": "2022-12-06T17:06:22.172735Z",
     "start_time": "2022-12-06T17:06:21.793187Z"
    }
   },
   "outputs": [],
   "source": [
    "import pandas as pd\n",
    "import numpy  as np\n",
    "import os"
   ]
  },
  {
   "cell_type": "code",
   "execution_count": 2,
   "metadata": {
    "ExecuteTime": {
     "end_time": "2022-12-06T17:12:51.326881Z",
     "start_time": "2022-12-06T17:06:22.655081Z"
    }
   },
   "outputs": [
    {
     "name": "stderr",
     "output_type": "stream",
     "text": [
      "WARNING: CV - assuming unspecified arraysize='*' for char datatype (non-strict)\n",
      "WARNING: CV - assuming unspecified arraysize='*' for char datatype (non-strict)\n",
      "WARNING: CV - assuming unspecified arraysize='*' for char datatype (non-strict)\n",
      "WARNING: CV - assuming unspecified arraysize='*' for char datatype (non-strict)\n",
      "WARNING: CV - assuming unspecified arraysize='*' for char datatype (non-strict)\n",
      "WARNING: CV - assuming unspecified arraysize='*' for char datatype (non-strict)\n",
      "WARNING: CV - assuming unspecified arraysize='*' for char datatype (non-strict)\n",
      "WARNING: CV - assuming unspecified arraysize='*' for char datatype (non-strict)\n",
      "WARNING: CV - assuming unspecified arraysize='*' for char datatype (non-strict)\n",
      "WARNING: CV - assuming unspecified arraysize='*' for char datatype (non-strict)\n",
      "WARNING: CV - assuming unspecified arraysize='*' for char datatype (non-strict)\n",
      "WARNING: CV - assuming unspecified arraysize='*' for char datatype (non-strict)\n",
      "WARNING: CV - assuming unspecified arraysize='*' for char datatype (non-strict)\n",
      "WARNING: CV - assuming unspecified arraysize='*' for char datatype (non-strict)\n",
      "WARNING: CV - assuming unspecified arraysize='*' for char datatype (non-strict)\n",
      "WARNING: CV - assuming unspecified arraysize='*' for char datatype (non-strict)\n",
      "WARNING: CV - assuming unspecified arraysize='*' for char datatype (non-strict)\n"
     ]
    },
    {
     "data": {
      "text/plain": [
       "0"
      ]
     },
     "execution_count": 2,
     "metadata": {},
     "output_type": "execute_result"
    }
   ],
   "source": [
    "SPLUS_Columns = ['ID', 'RA', 'DEC']\n",
    "Data          = pd.read_csv('/home/erik/Pesquisa/SPLUS/DownloadData/SPLUS_iDR4.3_AllFeatures_Spec_20221206.csv', usecols=SPLUS_Columns)\n",
    "\n",
    "Data[SPLUS_Columns].to_csv('TestData.csv', index=False)\n",
    "\n",
    "VHS_columns_to_keep    = ['SrcID', 'Ypmag', 'e_Ypmag', 'Jpmag', 'e_Jpmag', 'Hpmag', 'e_Hpmag', 'Kspmag', 'e_Kspmag', 'angDist']\n",
    "GALEX_columns_to_keep  = ['objid', 'FUVmag', 'e_FUVmag', 'NUVmag', 'e_NUVmag', 'angDist']\n",
    "unWISE_columns_to_keep = ['objID', 'FW1', 'e_FW1', 'FW2', 'e_FW2', 'angDist']\n",
    "\n",
    "## Match com VHS\n",
    "Columns_to_keep = ' '.join(SPLUS_Columns+VHS_columns_to_keep)\n",
    "\n",
    "os.system(f\"\"\"java -jar stilts.jar cdsskymatch in=TestData.csv cdstable=II/367/vhs_dr5 ra=RA dec=DEC radius=1 find=each blocksize=100000 \\\\\n",
    "              ocmd='keepcols \"{Columns_to_keep}\"; addcol ID_VHS \"SrcID\"; addcol sep_VHS \"angDist\"; delcols \"SrcID angDist\"' out=TestData_Matched.csv\"\"\")\n",
    "\n",
    "# Get new columns to keep\n",
    "Data              = pd.read_csv('TestData_Matched.csv', nrows=1)\n",
    "SPLUS_VHS_to_keep = list(Data.columns.values)\n",
    "\n",
    "## Match with GALEX\n",
    "Columns_to_keep = ' '.join(SPLUS_VHS_to_keep+GALEX_columns_to_keep)\n",
    "\n",
    "os.system(f\"\"\"java -jar stilts.jar cdsskymatch in=TestData_Matched.csv cdstable=II/335/galex_ais ra=RA dec=DEC radius=2 find=each blocksize=100000 \\\\\n",
    "              ocmd='keepcols \"{Columns_to_keep}\"; addcol ID_GALEX \"objid\"; addcol sep_GALEX \"angDist\"; delcols \"objid angDist\"' out=TestData_Matched_2.csv\"\"\")\n",
    "\n",
    "# Get new columns to keep\n",
    "Data                    = pd.read_csv('TestData_Matched_2.csv', nrows=1)\n",
    "SPLUS_VHS_GALEX_to_keep = list(Data.columns.values)\n",
    "\n",
    "## Match with unWISE\n",
    "Columns_to_keep = ' '.join(SPLUS_VHS_GALEX_to_keep+unWISE_columns_to_keep)\n",
    "\n",
    "os.system(f\"\"\"java -jar stilts.jar cdsskymatch in=TestData_Matched_2.csv cdstable=II/363/unwise ra=RA dec=DEC radius=1 find=each blocksize=100000 \\\\\n",
    "              ocmd='keepcols \"{Columns_to_keep}\"; addcol ID_unWISE \"objID\"; addcol sep_unWISE \"angDist\"; delcols \"objID angDist\"' out=TestData_Matched_3.csv\"\"\")"
   ]
  },
  {
   "cell_type": "code",
   "execution_count": 3,
   "metadata": {
    "ExecuteTime": {
     "end_time": "2022-12-06T17:12:53.914829Z",
     "start_time": "2022-12-06T17:12:51.328692Z"
    }
   },
   "outputs": [],
   "source": [
    "Data = pd.read_csv('TestData_Matched_3.csv')"
   ]
  },
  {
   "cell_type": "code",
   "execution_count": 4,
   "metadata": {
    "ExecuteTime": {
     "end_time": "2022-12-06T17:12:53.919649Z",
     "start_time": "2022-12-06T17:12:53.916287Z"
    }
   },
   "outputs": [],
   "source": [
    "Final_Columns = ['ID', 'RA', 'DEC',\n",
    "                 'ID_VHS', 'Ypmag', 'Jpmag', 'Hpmag', 'Kspmag', 'e_Ypmag', 'e_Jpmag', 'e_Hpmag', 'e_Kspmag', 'sep_VHS', \n",
    "                 'ID_GALEX', 'FUVmag', 'NUVmag', 'e_FUVmag', 'e_NUVmag', 'sep_GALEX', \n",
    "                 'ID_unWISE', 'W1_ab', 'W2_ab', 'e_W1_ab', 'e_W2_ab', 'sep_unWISE']"
   ]
  },
  {
   "cell_type": "code",
   "execution_count": 5,
   "metadata": {
    "ExecuteTime": {
     "end_time": "2022-12-06T17:12:54.214911Z",
     "start_time": "2022-12-06T17:12:53.922719Z"
    }
   },
   "outputs": [
    {
     "name": "stderr",
     "output_type": "stream",
     "text": [
      "/home/erik/Pesquisa/Anaconda3/envs/TFGPU/lib/python3.7/site-packages/pandas/core/arraylike.py:364: RuntimeWarning: divide by zero encountered in log10\n",
      "  result = getattr(ufunc, method)(*inputs, **kwargs)\n",
      "/home/erik/Pesquisa/Anaconda3/envs/TFGPU/lib/python3.7/site-packages/pandas/core/arraylike.py:364: RuntimeWarning: invalid value encountered in log10\n",
      "  result = getattr(ufunc, method)(*inputs, **kwargs)\n"
     ]
    }
   ],
   "source": [
    "Data['W1_ab'] = 22.5 - 2.5*np.log10(Data['FW1']) + 2.699\n",
    "Data['W2_ab'] = 22.5 - 2.5*np.log10(Data['FW2']) + 3.339\n",
    "\n",
    "# http://doxygen.lsst.codes/stack/doxygen/x_masterDoxyDoc/namespacelsst_1_1afw_1_1image.html#a0a023f269211d52086723788764d484e\n",
    "# return std::abs(fluxErr / (-0.4 * flux * std::log(10)));\n",
    "Data['e_W1_ab'] = abs(Data['e_FW1'] / (-0.4*Data['FW1']*np.log(10)))\n",
    "Data['e_W2_ab'] = abs(Data['e_FW2'] / (-0.4*Data['FW2']*np.log(10)))\n",
    "\n",
    "Data['W1_ab'].replace([np.inf, -np.inf], np.nan, inplace=True)\n",
    "Data['W2_ab'].replace([np.inf, -np.inf], np.nan, inplace=True)\n",
    "\n",
    "#Data[Final_Columns].to_csv('SPLUS_iDR4.3_VHS_GAL_unW_Photometry_20221125.csv', index=False)"
   ]
  },
  {
   "cell_type": "code",
   "execution_count": 6,
   "metadata": {
    "ExecuteTime": {
     "end_time": "2022-12-06T17:13:53.570138Z",
     "start_time": "2022-12-06T17:12:54.216569Z"
    }
   },
   "outputs": [],
   "source": [
    "# Calcualte nDets\n",
    "Base_Filters   = ['u', 'J0378', 'J0395', 'J0410', 'J0430', 'g', 'J0515', 'r', 'J0660', 'i', 'J0861', 'z']\n",
    "Apertures      = ['aper_3', 'aper_6', 'petro', 'iso', 'auto', 'PStotal']\n",
    "\n",
    "for aper in Apertures:\n",
    "    Features = [s+'_'+aper for s in Base_Filters]\n",
    "    nDetData = pd.read_csv('/home/erik/Pesquisa/SPLUS/DownloadData/SPLUS_iDR4.3_AllFeatures_Spec_20221206.csv', usecols=Features)\n",
    "    Data['nDet_'+aper] = (12-(nDetData == 99).sum(axis=1))"
   ]
  },
  {
   "cell_type": "code",
   "execution_count": 7,
   "metadata": {
    "ExecuteTime": {
     "end_time": "2022-12-06T17:13:54.382361Z",
     "start_time": "2022-12-06T17:13:53.571707Z"
    },
    "code_folding": [
     8
    ]
   },
   "outputs": [],
   "source": [
    "import extinction\n",
    "import sfdmap\n",
    "\n",
    "m = sfdmap.SFDMap('DustMaps/')\n",
    "\n",
    "Base_Filters   = ['u', 'J0378', 'J0395', 'J0410', 'J0430', 'g', 'J0515', 'r', 'J0660', 'i', 'J0861', 'z']\n",
    "Extinct_SPLUS  = [filt+'_ext' for filt in Base_Filters]\n",
    "\n",
    "def correct_extinction(Dataframe, Extinction_Maps):\n",
    "    '''\n",
    "    Correct the magnitudes for extinction using the CCM89 Law\n",
    "\n",
    "    Keyword arguments:\n",
    "    Dataframe         -- Dataframe containing the data to be corrected\n",
    "    Extinction_Maps   -- SFD Maps\n",
    "    '''\n",
    "    Corrected_Dataframe = Dataframe.copy().reset_index(drop=True)\n",
    "\n",
    "    # Obtaining E(B-V) and Av in a given RA, DEC position\n",
    "    AV = Extinction_Maps.ebv(Dataframe.RA, Dataframe.DEC)*3.1\n",
    "\n",
    "    # Calculating the extinction on the S-PLUS bands using the Cardelli, Clayton & Mathis law.\n",
    "    Lambdas = np.array([3536, 3770, 3940, 4094, 4292, 4751, 5133, 6258, 6614, 7690, 8611, 8831]).astype(np.float)\n",
    "\n",
    "    Extinctions = []\n",
    "    for i in range(len(AV)):\n",
    "        Extinctions.append(extinction.ccm89(Lambdas, AV[i], 3.1))\n",
    "\n",
    "    Extinction_DF = pd.DataFrame(Extinctions, columns=Extinct_SPLUS)\n",
    "\n",
    "    for i in range(len(Extinct_SPLUS)):\n",
    "        Corrected_Dataframe[Extinct_SPLUS[i]] = Extinction_DF[Extinct_SPLUS[i]]\n",
    "        \n",
    "    Corrected_Dataframe['EBV'] = AV/3.1\n",
    "\n",
    "    return Corrected_Dataframe"
   ]
  },
  {
   "cell_type": "code",
   "execution_count": 8,
   "metadata": {
    "ExecuteTime": {
     "end_time": "2022-12-06T17:13:54.389903Z",
     "start_time": "2022-12-06T17:13:54.384131Z"
    }
   },
   "outputs": [],
   "source": [
    "nDetCols = ['nDet_'+s for s in Apertures]"
   ]
  },
  {
   "cell_type": "code",
   "execution_count": 9,
   "metadata": {
    "ExecuteTime": {
     "end_time": "2022-12-06T17:14:26.719022Z",
     "start_time": "2022-12-06T17:13:54.391516Z"
    }
   },
   "outputs": [
    {
     "name": "stderr",
     "output_type": "stream",
     "text": [
      "/home/erik/Pesquisa/Anaconda3/envs/TFGPU/lib/python3.7/site-packages/ipykernel_launcher.py:23: DeprecationWarning: `np.float` is a deprecated alias for the builtin `float`. To silence this warning, use `float` by itself. Doing this will not modify any behavior and is safe. If you specifically wanted the numpy scalar type, use `np.float64` here.\n",
      "Deprecated in NumPy 1.20; for more details and guidance: https://numpy.org/devdocs/release/1.20.0-notes.html#deprecations\n"
     ]
    }
   ],
   "source": [
    "Corrected_DF = correct_extinction(Data, m)\n",
    "Corrected_DF[Final_Columns+Extinct_SPLUS+['EBV']+nDetCols].to_csv('SPLUS_iDR4.3_VHS_GAL_unW_Extinctions_nDets_20221206.csv', index=False)"
   ]
  },
  {
   "cell_type": "code",
   "execution_count": 11,
   "metadata": {
    "ExecuteTime": {
     "end_time": "2022-12-06T17:14:27.186793Z",
     "start_time": "2022-12-06T17:14:26.925762Z"
    }
   },
   "outputs": [
    {
     "data": {
      "text/plain": [
       "0"
      ]
     },
     "execution_count": 11,
     "metadata": {},
     "output_type": "execute_result"
    }
   ],
   "source": [
    "os.system('rm TestData.csv')\n",
    "os.system('rm TestData_Matched.csv')\n",
    "os.system('rm TestData_Matched_2.csv')\n",
    "os.system('rm TestData_Matched_3.csv')"
   ]
  },
  {
   "cell_type": "code",
   "execution_count": null,
   "metadata": {},
   "outputs": [],
   "source": []
  }
 ],
 "metadata": {
  "kernelspec": {
   "display_name": "Python 3.10.8 64-bit",
   "language": "python",
   "name": "python3"
  },
  "language_info": {
   "codemirror_mode": {
    "name": "ipython",
    "version": 3
   },
   "file_extension": ".py",
   "mimetype": "text/x-python",
   "name": "python",
   "nbconvert_exporter": "python",
   "pygments_lexer": "ipython3",
   "version": "3.10.8 (main, Oct 13 2022, 10:19:13) [Clang 12.0.0 (clang-1200.0.32.29)]"
  },
  "vscode": {
   "interpreter": {
    "hash": "aee8b7b246df8f9039afb4144a1f6fd8d2ca17a180786b69acc140d282b71a49"
   }
  }
 },
 "nbformat": 4,
 "nbformat_minor": 4
}
