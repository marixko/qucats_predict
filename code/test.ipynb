{
 "cells": [
  {
   "cell_type": "code",
   "execution_count": 3,
   "metadata": {},
   "outputs": [],
   "source": [
    "import pandas as pd\n",
    "from auxiliary.paths import input_path, raw_path\n",
    "from astropy.table import Table\n",
    "import numpy as np\n",
    "from auxiliary.columns import wise, galex, create_colors, calculate_colors, splus, error_splus\n",
    "from auxiliary.correct_extinction import correction\n",
    "import numpy as np"
   ]
  },
  {
   "cell_type": "code",
   "execution_count": 4,
   "metadata": {},
   "outputs": [],
   "source": [
    "filename = \"/Volumes/GoogleDrive/My Drive/Research/Projects/qucats_predict/data/input_model/STRIPE82-0170_dual_VAC_features.fits\"\n",
    "table = Table.read(os.path.join(input_path, filename))\n",
    "table = table.to_pandas()\n",
    "table[\"ID\"] = table[\"ID\"].str.decode('utf-8') "
   ]
  },
  {
   "cell_type": "code",
   "execution_count": 5,
   "metadata": {},
   "outputs": [
    {
     "name": "stderr",
     "output_type": "stream",
     "text": [
      "/Users/Mariko/opt/anaconda3/envs/photoz/lib/python3.9/site-packages/pandas/core/arraylike.py:397: RuntimeWarning: divide by zero encountered in log10\n",
      "  result = getattr(ufunc, method)(*inputs, **kwargs)\n",
      "/Users/Mariko/opt/anaconda3/envs/photoz/lib/python3.9/site-packages/pandas/core/arraylike.py:397: RuntimeWarning: divide by zero encountered in log10\n",
      "  result = getattr(ufunc, method)(*inputs, **kwargs)\n"
     ]
    }
   ],
   "source": [
    "table['W1_MAG'] = 22.5 - 2.5*np.log10(table['FW1']) # + 2.699\n",
    "table['W2_MAG'] = 22.5 - 2.5*np.log10(table['FW2']) # + 3.339\n",
    "\n",
    "# http://doxygen.lsst.codes/stack/doxygen/x_masterDoxyDoc/namespacelsst_1_1afw_1_1image.html#a0a023f269211d52086723788764d484e\n",
    "# return std::abs(fluxErr / (-0.4 * flux * std::log(10)));\n",
    "table['e_W1_MAG'] = abs(table['e_FW1'] / (-0.4*table['FW1']*np.log(10)))\n",
    "table['e_W2_MAG'] = abs(table['e_FW2'] / (-0.4*table['FW2']*np.log(10)))\n",
    "\n",
    "table['W1_MAG'].replace([np.inf, -np.inf], np.nan, inplace=True)\n",
    "table['W2_MAG'].replace([np.inf, -np.inf], np.nan, inplace=True)"
   ]
  },
  {
   "cell_type": "code",
   "execution_count": 6,
   "metadata": {},
   "outputs": [],
   "source": [
    "table[wise+galex] = table[wise+galex].fillna(value=99)"
   ]
  },
  {
   "cell_type": "code",
   "execution_count": 8,
   "metadata": {},
   "outputs": [],
   "source": [
    "correct = False\n",
    "\n",
    "if correct:\n",
    "    table = correction(table)\n",
    "calculate_colors(table, broad=True, narrow=True, wise=True, galex = True, aper=\"PStotal\")\n",
    "features = create_colors(broad=True, narrow=True, wise=True, galex=True, aper=\"PStotal\")\n",
    "pos_splus = [\"ID\", \"RA\", \"DEC\"]\n",
    "\n",
    "if correct:\n",
    "    table[pos_splus+features+splus+wise+galex+error_splus].to_csv(\"/Volumes/GoogleDrive/My Drive/Research/Projects/qucats_predict/data/input_model/STRIPE82-0170_QSOz_VAC_ext.csv\", index=False)\n",
    "else:\n",
    "    table[pos_splus+features+splus+wise+galex+error_splus].to_csv(\"/Volumes/GoogleDrive/My Drive/Research/Projects/qucats_predict/data/input_model/STRIPE82-0170_QSOz_VAC.csv\", index=False)"
   ]
  },
  {
   "cell_type": "code",
   "execution_count": 12,
   "metadata": {},
   "outputs": [
    {
     "data": {
      "text/html": [
       "<div>\n",
       "<style scoped>\n",
       "    .dataframe tbody tr th:only-of-type {\n",
       "        vertical-align: middle;\n",
       "    }\n",
       "\n",
       "    .dataframe tbody tr th {\n",
       "        vertical-align: top;\n",
       "    }\n",
       "\n",
       "    .dataframe thead th {\n",
       "        text-align: right;\n",
       "    }\n",
       "</style>\n",
       "<table border=\"1\" class=\"dataframe\">\n",
       "  <thead>\n",
       "    <tr style=\"text-align: right;\">\n",
       "      <th></th>\n",
       "      <th>u_PStotal</th>\n",
       "      <th>g_PStotal</th>\n",
       "      <th>r_PStotal</th>\n",
       "      <th>i_PStotal</th>\n",
       "      <th>z_PStotal</th>\n",
       "      <th>J0378_PStotal</th>\n",
       "      <th>J0395_PStotal</th>\n",
       "      <th>J0410_PStotal</th>\n",
       "      <th>J0430_PStotal</th>\n",
       "      <th>J0515_PStotal</th>\n",
       "      <th>J0660_PStotal</th>\n",
       "      <th>J0861_PStotal</th>\n",
       "    </tr>\n",
       "  </thead>\n",
       "  <tbody>\n",
       "    <tr>\n",
       "      <th>22522</th>\n",
       "      <td>NaN</td>\n",
       "      <td>NaN</td>\n",
       "      <td>NaN</td>\n",
       "      <td>NaN</td>\n",
       "      <td>NaN</td>\n",
       "      <td>NaN</td>\n",
       "      <td>NaN</td>\n",
       "      <td>NaN</td>\n",
       "      <td>NaN</td>\n",
       "      <td>NaN</td>\n",
       "      <td>NaN</td>\n",
       "      <td>NaN</td>\n",
       "    </tr>\n",
       "  </tbody>\n",
       "</table>\n",
       "</div>"
      ],
      "text/plain": [
       "       u_PStotal  g_PStotal  r_PStotal  i_PStotal  z_PStotal  J0378_PStotal  \\\n",
       "22522        NaN        NaN        NaN        NaN        NaN            NaN   \n",
       "\n",
       "       J0395_PStotal  J0410_PStotal  J0430_PStotal  J0515_PStotal  \\\n",
       "22522            NaN            NaN            NaN            NaN   \n",
       "\n",
       "       J0660_PStotal  J0861_PStotal  \n",
       "22522            NaN            NaN  "
      ]
     },
     "execution_count": 12,
     "metadata": {},
     "output_type": "execute_result"
    }
   ],
   "source": [
    "corrected_df.dropna(subset=splus)\n",
    "corrected_df.query(f\"ID=='iDR4_3_STRIPE82-0170_0022523'\")[splus]"
   ]
  }
 ],
 "metadata": {
  "kernelspec": {
   "display_name": "photoz",
   "language": "python",
   "name": "python3"
  },
  "language_info": {
   "codemirror_mode": {
    "name": "ipython",
    "version": 3
   },
   "file_extension": ".py",
   "mimetype": "text/x-python",
   "name": "python",
   "nbconvert_exporter": "python",
   "pygments_lexer": "ipython3",
   "version": "3.9.16"
  },
  "orig_nbformat": 4,
  "vscode": {
   "interpreter": {
    "hash": "fe2fee97ad1cf7d725655e82ca5c4b1756e1cb818c68665723dda62dce821a70"
   }
  }
 },
 "nbformat": 4,
 "nbformat_minor": 2
}
