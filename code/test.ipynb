{
 "cells": [
  {
   "cell_type": "code",
   "execution_count": 1,
   "metadata": {},
   "outputs": [],
   "source": [
    "import pandas as pd\n",
    "from auxiliary.paths import input_path, raw_path\n",
    "from astropy.table import Table\n",
    "import numpy as np\n",
    "from auxiliary.columns import wise, galex, create_colors, calculate_colors, splus, error_splus\n",
    "from auxiliary.correct_extinction import correction\n",
    "import numpy as np"
   ]
  },
  {
   "cell_type": "code",
   "execution_count": 2,
   "metadata": {},
   "outputs": [],
   "source": [
    "filename = \"/Volumes/GoogleDrive/My Drive/Research/Projects/qucats_predict/data/input_model/STRIPE82-0170_dual_VAC_features.fits\"\n",
    "table = Table.read(os.path.join(input_path, filename))\n",
    "table = table.to_pandas()\n",
    "table[\"ID\"] = table[\"ID\"].str.decode('utf-8') "
   ]
  },
  {
   "cell_type": "code",
   "execution_count": 3,
   "metadata": {},
   "outputs": [
    {
     "name": "stderr",
     "output_type": "stream",
     "text": [
      "/Users/Mariko/opt/anaconda3/envs/photoz/lib/python3.9/site-packages/pandas/core/arraylike.py:397: RuntimeWarning: divide by zero encountered in log10\n",
      "  result = getattr(ufunc, method)(*inputs, **kwargs)\n",
      "/Users/Mariko/opt/anaconda3/envs/photoz/lib/python3.9/site-packages/pandas/core/arraylike.py:397: RuntimeWarning: divide by zero encountered in log10\n",
      "  result = getattr(ufunc, method)(*inputs, **kwargs)\n"
     ]
    }
   ],
   "source": [
    "table['W1_MAG'] = 22.5 - 2.5*np.log10(table['FW1']) # + 2.699\n",
    "table['W2_MAG'] = 22.5 - 2.5*np.log10(table['FW2']) # + 3.339\n",
    "\n",
    "# http://doxygen.lsst.codes/stack/doxygen/x_masterDoxyDoc/namespacelsst_1_1afw_1_1image.html#a0a023f269211d52086723788764d484e\n",
    "# return std::abs(fluxErr / (-0.4 * flux * std::log(10)));\n",
    "table['e_W1_MAG'] = abs(table['e_FW1'] / (-0.4*table['FW1']*np.log(10)))\n",
    "table['e_W2_MAG'] = abs(table['e_FW2'] / (-0.4*table['FW2']*np.log(10)))\n",
    "\n",
    "table['W1_MAG'].replace([np.inf, -np.inf], np.nan, inplace=True)\n",
    "table['W2_MAG'].replace([np.inf, -np.inf], np.nan, inplace=True)"
   ]
  },
  {
   "cell_type": "code",
   "execution_count": 4,
   "metadata": {},
   "outputs": [],
   "source": [
    "table[wise+galex] = table[wise+galex].fillna(value=99)"
   ]
  },
  {
   "cell_type": "code",
   "execution_count": 5,
   "metadata": {},
   "outputs": [],
   "source": [
    "correct = False\n",
    "\n",
    "if correct:\n",
    "    table = correction(table)\n",
    "calculate_colors(table, broad=True, narrow=True, wise=True, galex = True, aper=\"PStotal\")\n",
    "features = create_colors(broad=True, narrow=True, wise=True, galex=True, aper=\"PStotal\")\n",
    "pos_splus = [\"ID\", \"RA\", \"DEC\"]\n",
    "\n",
    "if correct:\n",
    "    table[pos_splus+features+splus+wise+galex+error_splus].to_csv(\"/Volumes/GoogleDrive/My Drive/Research/Projects/qucats_predict/data/input_model/STRIPE82-0170_QSOz_VAC_ext.csv\", index=False)\n",
    "else:\n",
    "    table[pos_splus+features+splus+wise+galex+error_splus].to_csv(\"/Volumes/GoogleDrive/My Drive/Research/Projects/qucats_predict/data/input_model/STRIPE82-0170_QSOz_VAC.csv\", index=False)"
   ]
  },
  {
   "cell_type": "code",
   "execution_count": 12,
   "metadata": {},
   "outputs": [
    {
     "data": {
      "text/html": [
       "<div>\n",
       "<style scoped>\n",
       "    .dataframe tbody tr th:only-of-type {\n",
       "        vertical-align: middle;\n",
       "    }\n",
       "\n",
       "    .dataframe tbody tr th {\n",
       "        vertical-align: top;\n",
       "    }\n",
       "\n",
       "    .dataframe thead th {\n",
       "        text-align: right;\n",
       "    }\n",
       "</style>\n",
       "<table border=\"1\" class=\"dataframe\">\n",
       "  <thead>\n",
       "    <tr style=\"text-align: right;\">\n",
       "      <th></th>\n",
       "      <th>u_PStotal</th>\n",
       "      <th>g_PStotal</th>\n",
       "      <th>r_PStotal</th>\n",
       "      <th>i_PStotal</th>\n",
       "      <th>z_PStotal</th>\n",
       "      <th>J0378_PStotal</th>\n",
       "      <th>J0395_PStotal</th>\n",
       "      <th>J0410_PStotal</th>\n",
       "      <th>J0430_PStotal</th>\n",
       "      <th>J0515_PStotal</th>\n",
       "      <th>J0660_PStotal</th>\n",
       "      <th>J0861_PStotal</th>\n",
       "    </tr>\n",
       "  </thead>\n",
       "  <tbody>\n",
       "    <tr>\n",
       "      <th>22522</th>\n",
       "      <td>NaN</td>\n",
       "      <td>NaN</td>\n",
       "      <td>NaN</td>\n",
       "      <td>NaN</td>\n",
       "      <td>NaN</td>\n",
       "      <td>NaN</td>\n",
       "      <td>NaN</td>\n",
       "      <td>NaN</td>\n",
       "      <td>NaN</td>\n",
       "      <td>NaN</td>\n",
       "      <td>NaN</td>\n",
       "      <td>NaN</td>\n",
       "    </tr>\n",
       "  </tbody>\n",
       "</table>\n",
       "</div>"
      ],
      "text/plain": [
       "       u_PStotal  g_PStotal  r_PStotal  i_PStotal  z_PStotal  J0378_PStotal  \\\n",
       "22522        NaN        NaN        NaN        NaN        NaN            NaN   \n",
       "\n",
       "       J0395_PStotal  J0410_PStotal  J0430_PStotal  J0515_PStotal  \\\n",
       "22522            NaN            NaN            NaN            NaN   \n",
       "\n",
       "       J0660_PStotal  J0861_PStotal  \n",
       "22522            NaN            NaN  "
      ]
     },
     "execution_count": 12,
     "metadata": {},
     "output_type": "execute_result"
    }
   ],
   "source": [
    "corrected_df.dropna(subset=splus)\n",
    "corrected_df.query(f\"ID=='iDR4_3_STRIPE82-0170_0022523'\")[splus]"
   ]
  },
  {
   "cell_type": "code",
   "execution_count": 6,
   "metadata": {},
   "outputs": [
    {
     "data": {
      "text/plain": [
       "['u_PStotal-r_PStotal',\n",
       " 'g_PStotal-r_PStotal',\n",
       " 'r_PStotal-i_PStotal',\n",
       " 'r_PStotal-z_PStotal',\n",
       " 'J0378_PStotal-r_PStotal',\n",
       " 'J0395_PStotal-r_PStotal',\n",
       " 'J0410_PStotal-r_PStotal',\n",
       " 'J0430_PStotal-r_PStotal',\n",
       " 'J0515_PStotal-r_PStotal',\n",
       " 'r_PStotal-J0660_PStotal',\n",
       " 'r_PStotal-J0861_PStotal',\n",
       " 'r_PStotal-W1_MAG',\n",
       " 'r_PStotal-W2_MAG',\n",
       " 'FUVmag-r_PStotal',\n",
       " 'NUVmag-r_PStotal']"
      ]
     },
     "execution_count": 6,
     "metadata": {},
     "output_type": "execute_result"
    }
   ],
   "source": [
    "features"
   ]
  },
  {
   "cell_type": "code",
   "execution_count": 12,
   "metadata": {},
   "outputs": [
    {
     "data": {
      "text/plain": [
       "['FUVmag',\n",
       " 'NUVmag',\n",
       " 'u_PStotal',\n",
       " 'g_PStotal',\n",
       " 'r_PStotal',\n",
       " 'i_PStotal',\n",
       " 'z_PStotal',\n",
       " 'J0378_PStotal',\n",
       " 'J0395_PStotal',\n",
       " 'J0410_PStotal',\n",
       " 'J0430_PStotal',\n",
       " 'J0515_PStotal',\n",
       " 'J0660_PStotal',\n",
       " 'J0861_PStotal',\n",
       " 'W1_MAG',\n",
       " 'W2_MAG']"
      ]
     },
     "execution_count": 12,
     "metadata": {},
     "output_type": "execute_result"
    }
   ],
   "source": [
    "Magnitudes"
   ]
  },
  {
   "cell_type": "code",
   "execution_count": 17,
   "metadata": {},
   "outputs": [
    {
     "data": {
      "text/plain": [
       "['u_PStotal-r_PStotal',\n",
       " 'g_PStotal-r_PStotal',\n",
       " 'r_PStotal-i_PStotal',\n",
       " 'r_PStotal-z_PStotal',\n",
       " 'J0378_PStotal-r_PStotal',\n",
       " 'J0395_PStotal-r_PStotal',\n",
       " 'J0410_PStotal-r_PStotal',\n",
       " 'J0430_PStotal-r_PStotal',\n",
       " 'J0515_PStotal-r_PStotal',\n",
       " 'r_PStotal-J0660_PStotal',\n",
       " 'r_PStotal-J0861_PStotal',\n",
       " 'r_PStotal-W1_MAG',\n",
       " 'r_PStotal-W2_MAG',\n",
       " 'FUVmag-r_PStotal',\n",
       " 'NUVmag-r_PStotal']"
      ]
     },
     "execution_count": 17,
     "metadata": {},
     "output_type": "execute_result"
    }
   ],
   "source": [
    "features"
   ]
  },
  {
   "cell_type": "code",
   "execution_count": 15,
   "metadata": {},
   "outputs": [],
   "source": [
    "Dataframe = table.copy(deep=True)\n",
    "Magnitudes = galex+splus+wise\n",
    "Aper = \"PStotal\"\n",
    "Reference_Mag  = 'r_'+Aper\n",
    "Reference_Idx = Magnitudes.index(Reference_Mag)\n",
    "MagnitudesToLeft = Magnitudes[:Reference_Idx]\n",
    "MagnitudesToRight = Magnitudes[(Reference_Idx+1):]\n",
    "\n",
    "for feature in MagnitudesToLeft: # of Reference_Mag\n",
    "    Dataframe[feature+'-'+Reference_Mag] = Dataframe[feature] - Dataframe[Reference_Mag]\n",
    "\n",
    "for feature in MagnitudesToRight: # of Reference_Mag\n",
    "    Dataframe[Reference_Mag+'-'+feature] = Dataframe[Reference_Mag] - Dataframe[feature]\n",
    "\n",
    "Training_Features = []\n",
    "for s in Dataframe.columns.values:\n",
    "    if '-' in s:\n",
    "        if s.split('-')[0] in Magnitudes and s.split('-')[1] in Magnitudes:\n",
    "            Training_Features.append(s)"
   ]
  },
  {
   "cell_type": "code",
   "execution_count": 16,
   "metadata": {},
   "outputs": [
    {
     "data": {
      "text/plain": [
       "array(['ID', 'PHOT_ID_dual_1', 'RA', 'DEC', 'A', 'B_in', 'KRON_RADIUS',\n",
       "       'FWHM_n', 'MU_MAX_INST', 'ISOarea', 'SEX_FLAGS_DET',\n",
       "       's2n_DET_aper_6', 'PHOT_ID_dual_2', 'SEX_FLAGS_u', 'u_iso',\n",
       "       'e_u_iso', 'u_aper_3', 'e_u_aper_3', 'u_aper_6', 'e_u_aper_6',\n",
       "       'u_auto', 'e_u_auto', 'u_petro', 'e_u_petro', 'u_PStotal',\n",
       "       'e_u_PStotal', 'FWHM_n_u', 'MU_MAX_u', 'PHOT_ID_dual_3',\n",
       "       'SEX_FLAGS_J0378', 'J0378_iso', 'e_J0378_iso', 'J0378_aper_3',\n",
       "       'e_J0378_aper_3', 'J0378_aper_6', 'e_J0378_aper_6', 'J0378_auto',\n",
       "       'e_J0378_auto', 'J0378_petro', 'e_J0378_petro', 'J0378_PStotal',\n",
       "       'e_J0378_PStotal', 'FWHM_n_J0378', 'MU_MAX_J0378',\n",
       "       'PHOT_ID_dual_4', 'SEX_FLAGS_J0395', 'J0395_iso', 'e_J0395_iso',\n",
       "       'J0395_aper_3', 'e_J0395_aper_3', 'J0395_aper_6', 'e_J0395_aper_6',\n",
       "       'J0395_auto', 'e_J0395_auto', 'J0395_petro', 'e_J0395_petro',\n",
       "       'J0395_PStotal', 'e_J0395_PStotal', 'FWHM_n_J0395', 'MU_MAX_J0395',\n",
       "       'PHOT_ID_dual_5', 'SEX_FLAGS_J0410', 'J0410_iso', 'e_J0410_iso',\n",
       "       'J0410_aper_3', 'e_J0410_aper_3', 'J0410_aper_6', 'e_J0410_aper_6',\n",
       "       'J0410_auto', 'e_J0410_auto', 'J0410_petro', 'e_J0410_petro',\n",
       "       'J0410_PStotal', 'e_J0410_PStotal', 'FWHM_n_J0410', 'MU_MAX_J0410',\n",
       "       'PHOT_ID_dual_6', 'SEX_FLAGS_J0430', 'J0430_iso', 'e_J0430_iso',\n",
       "       'J0430_aper_3', 'e_J0430_aper_3', 'J0430_aper_6', 'e_J0430_aper_6',\n",
       "       'J0430_auto', 'e_J0430_auto', 'J0430_petro', 'e_J0430_petro',\n",
       "       'J0430_PStotal', 'e_J0430_PStotal', 'FWHM_n_J0430', 'MU_MAX_J0430',\n",
       "       'PHOT_ID_dual_7', 'SEX_FLAGS_g', 'g_iso', 'e_g_iso', 'g_aper_3',\n",
       "       'e_g_aper_3', 'g_aper_6', 'e_g_aper_6', 'g_auto', 'e_g_auto',\n",
       "       'g_petro', 'e_g_petro', 'g_PStotal', 'e_g_PStotal', 'FWHM_n_g',\n",
       "       'MU_MAX_g', 'PHOT_ID_dual_8', 'SEX_FLAGS_J0515', 'J0515_iso',\n",
       "       'e_J0515_iso', 'J0515_aper_3', 'e_J0515_aper_3', 'J0515_aper_6',\n",
       "       'e_J0515_aper_6', 'J0515_auto', 'e_J0515_auto', 'J0515_petro',\n",
       "       'e_J0515_petro', 'J0515_PStotal', 'e_J0515_PStotal',\n",
       "       'FWHM_n_J0515', 'MU_MAX_J0515', 'PHOT_ID_dual_9', 'SEX_FLAGS_r',\n",
       "       'r_iso', 'e_r_iso', 'r_aper_3', 'e_r_aper_3', 'r_aper_6',\n",
       "       'e_r_aper_6', 'r_auto', 'e_r_auto', 'r_petro', 'e_r_petro',\n",
       "       'r_PStotal', 'e_r_PStotal', 'FWHM_n_r', 'MU_MAX_r',\n",
       "       'PHOT_ID_dual_10', 'SEX_FLAGS_J0660', 'J0660_iso', 'e_J0660_iso',\n",
       "       'J0660_aper_3', 'e_J0660_aper_3', 'J0660_aper_6', 'e_J0660_aper_6',\n",
       "       'J0660_auto', 'e_J0660_auto', 'J0660_petro', 'e_J0660_petro',\n",
       "       'J0660_PStotal', 'e_J0660_PStotal', 'FWHM_n_J0660', 'MU_MAX_J0660',\n",
       "       'PHOT_ID_dual_11', 'SEX_FLAGS_i', 'i_iso', 'e_i_iso', 'i_aper_3',\n",
       "       'e_i_aper_3', 'i_aper_6', 'e_i_aper_6', 'i_auto', 'e_i_auto',\n",
       "       'i_petro', 'e_i_petro', 'i_PStotal', 'e_i_PStotal', 'FWHM_n_i',\n",
       "       'MU_MAX_i', 'PHOT_ID_dual_12', 'SEX_FLAGS_J0861', 'J0861_iso',\n",
       "       'e_J0861_iso', 'J0861_aper_3', 'e_J0861_aper_3', 'J0861_aper_6',\n",
       "       'e_J0861_aper_6', 'J0861_auto', 'e_J0861_auto', 'J0861_petro',\n",
       "       'e_J0861_petro', 'J0861_PStotal', 'e_J0861_PStotal',\n",
       "       'FWHM_n_J0861', 'MU_MAX_J0861', 'PHOT_ID_dual_13', 'SEX_FLAGS_z',\n",
       "       'z_iso', 'e_z_iso', 'z_aper_3', 'e_z_aper_3', 'z_aper_6',\n",
       "       'e_z_aper_6', 'z_auto', 'e_z_auto', 'z_petro', 'e_z_petro',\n",
       "       'z_PStotal', 'e_z_PStotal', 'FWHM_n_z', 'MU_MAX_z', 'RAJ2000',\n",
       "       'DEJ2000', 'name', 'phID', 'Cat', 'RAfdeg', 'DEfdeg', 'FUVexp',\n",
       "       'NUVexp', 'GLON', 'GLAT', 'tile', 'img', 'sv', 'r.fov', 'Obs',\n",
       "       'b_cds', 'E(B-V)', 'Sp?', 'chkf', 'FUVmag', 'e_FUVmag', 'NUVmag',\n",
       "       'e_NUVmag', 'FUV.a', 'e_FUV.a', 'NUV.a', 'e_NUV.a', 'FUV.4',\n",
       "       'e_FUV.4', 'NUV.4', 'e_NUV.4', 'FUV.6', 'e_FUV.6', 'NUV.6',\n",
       "       'e_NUV.6', 'Fafl', 'Nafl', 'Fexf', 'Nexf', 'Fflux', 'e_Fflux',\n",
       "       'Nflux', 'e_Nflux', 'FXpos', 'FYpos', 'NXpos', 'NYpos', 'Fima',\n",
       "       'Nima', 'Fr', 'Nr', 'nS/G', 'fS/G', 'nell', 'fell', 'nPA', 'e_nPA',\n",
       "       'fPA', 'e_fPA', 'Fnr', 'F3r', 'Nar', 'Narms', 'Nbrms', 'Far',\n",
       "       'Farms', 'Fbrms', 'w_NUV', 'w_FUV', 'Prob', 'Sep', 'Nerr', 'Ferr',\n",
       "       'Ierr', 'Nperr', 'Fperr', 'CV', 'G', 'N', 'primid', 'groupid',\n",
       "       'Gd', 'Nd', 'primidd', 'groupidd', 'grouptot', 'OName', 'Size',\n",
       "       'ID_GALEX', 'sep_GALEX', 'RAdeg', 'DEdeg', 'XposW1', 'XposW2',\n",
       "       'YposW1', 'YposW2', 'FW1', 'FW2', 'e_XposW1', 'e_XposW2',\n",
       "       'e_YposW1', 'e_YposW2', 'e_FW1', 'e_FW2', 'q_W1', 'q_W2',\n",
       "       'rchi2W1', 'rchi2W2', 'fFW1', 'fFW2', 'FW1lbs', 'FW2lbs',\n",
       "       'e_FW1lbs', 'e_FW2lbs', 'fwhmW1', 'fwhmW2', 'SpModW1', 'SpModW2',\n",
       "       'e_SpModW1', 'e_SpModW2', 'skyW1', 'skyW2', 'RAW1deg', 'RAW2deg',\n",
       "       'DEW1deg', 'DEW2deg', 'coaddID', 'detIDW1', 'detIDW2', 'nmW1',\n",
       "       'nmW2', 'PrimW1', 'PrimW2', 'FlagsW1', 'FlagsW2', 'f_FlagsW1',\n",
       "       'f_FlagsW2', 'Prim', 'ID_unWISE', 'sep_unWISE', 'W1_MAG', 'W2_MAG',\n",
       "       'e_W1_MAG', 'e_W2_MAG', 'u_PStotal-r_PStotal',\n",
       "       'g_PStotal-r_PStotal', 'r_PStotal-i_PStotal',\n",
       "       'r_PStotal-z_PStotal', 'J0378_PStotal-r_PStotal',\n",
       "       'J0395_PStotal-r_PStotal', 'J0410_PStotal-r_PStotal',\n",
       "       'J0430_PStotal-r_PStotal', 'J0515_PStotal-r_PStotal',\n",
       "       'r_PStotal-J0660_PStotal', 'r_PStotal-J0861_PStotal',\n",
       "       'r_PStotal-W1_MAG', 'r_PStotal-W2_MAG', 'FUVmag-r_PStotal',\n",
       "       'NUVmag-r_PStotal', 'r_PStotal-J0378_PStotal',\n",
       "       'r_PStotal-J0395_PStotal', 'r_PStotal-J0410_PStotal',\n",
       "       'r_PStotal-J0430_PStotal', 'r_PStotal-J0515_PStotal'], dtype=object)"
      ]
     },
     "execution_count": 16,
     "metadata": {},
     "output_type": "execute_result"
    }
   ],
   "source": [
    "Dataframe.columns.values"
   ]
  },
  {
   "cell_type": "code",
   "execution_count": null,
   "metadata": {},
   "outputs": [],
   "source": []
  }
 ],
 "metadata": {
  "kernelspec": {
   "display_name": "photoz",
   "language": "python",
   "name": "python3"
  },
  "language_info": {
   "codemirror_mode": {
    "name": "ipython",
    "version": 3
   },
   "file_extension": ".py",
   "mimetype": "text/x-python",
   "name": "python",
   "nbconvert_exporter": "python",
   "pygments_lexer": "ipython3",
   "version": "3.9.16"
  },
  "orig_nbformat": 4,
  "vscode": {
   "interpreter": {
    "hash": "fe2fee97ad1cf7d725655e82ca5c4b1756e1cb818c68665723dda62dce821a70"
   }
  }
 },
 "nbformat": 4,
 "nbformat_minor": 2
}
